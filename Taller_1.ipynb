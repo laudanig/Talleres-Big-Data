{
  "nbformat": 4,
  "nbformat_minor": 0,
  "metadata": {
    "colab": {
      "provenance": []
    },
    "kernelspec": {
      "name": "python3",
      "display_name": "Python 3"
    },
    "language_info": {
      "name": "python"
    }
  },
  "cells": [
    {
      "cell_type": "code",
      "execution_count": 1,
      "metadata": {
        "id": "PYjj7GL6LU47"
      },
      "outputs": [],
      "source": [
        "def par_impar(a, b=2):\n",
        "  suma = a + b\n",
        "  if type(a) == int and type(b) == int:\n",
        "    if suma % 2 == 0:\n",
        "      print(f\"El numero {suma} es par\")\n",
        "    else:\n",
        "      print(f\"el numero {suma} es impar\")\n",
        "  else:\n",
        "    print(f\"Los datos integrados deben ser enteros\")\n"
      ]
    },
    {
      "cell_type": "code",
      "source": [
        "par_impar(6, 10)"
      ],
      "metadata": {
        "colab": {
          "base_uri": "https://localhost:8080/"
        },
        "id": "Y6D-5Ausoses",
        "outputId": "2a3b8813-23b8-42eb-999a-a58a018dd0ce"
      },
      "execution_count": 2,
      "outputs": [
        {
          "output_type": "stream",
          "name": "stdout",
          "text": [
            "El numero 16 es par\n"
          ]
        }
      ]
    },
    {
      "cell_type": "code",
      "source": [
        "def div_sum_enteros(a, b, c):\n",
        "\n",
        "  if type(a) == int and type(b) == int and type(c) == int:\n",
        "    suma = a + b\n",
        "    if c != 0:\n",
        "      print(suma / c)\n",
        "    else:\n",
        "      print(\"No es posible ejecutar\")\n",
        "  else:\n",
        "    print(\"Todos los numeros deben ser enteros\")\n",
        "\n"
      ],
      "metadata": {
        "id": "GFT3uHJaeV_l"
      },
      "execution_count": 3,
      "outputs": []
    },
    {
      "cell_type": "code",
      "source": [
        "div_sum_enteros(7, 0, 9)"
      ],
      "metadata": {
        "colab": {
          "base_uri": "https://localhost:8080/"
        },
        "id": "vRyD-Csrin3G",
        "outputId": "386d0dc4-1405-4891-9f49-018b6b8a4ebe"
      },
      "execution_count": 5,
      "outputs": [
        {
          "output_type": "stream",
          "name": "stdout",
          "text": [
            "0.7777777777777778\n"
          ]
        }
      ]
    },
    {
      "cell_type": "code",
      "source": [],
      "metadata": {
        "id": "ZvKferVsjgC0"
      },
      "execution_count": null,
      "outputs": []
    }
  ]
}